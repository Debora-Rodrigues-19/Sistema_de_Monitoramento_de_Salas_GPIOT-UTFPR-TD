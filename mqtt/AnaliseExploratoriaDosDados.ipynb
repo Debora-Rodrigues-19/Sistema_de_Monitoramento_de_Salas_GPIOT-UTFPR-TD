{
 "cells": [
  {
   "cell_type": "code",
   "execution_count": 1,
   "metadata": {},
   "outputs": [],
   "source": [
    "import numpy as np\n",
    "import pandas as pd\n",
    "import matplotlib.pyplot as plt\n",
    "import seaborn as sb\n",
    "import seaborn as sns\n",
    "\n",
    "%matplotlib inline"
   ]
  },
  {
   "cell_type": "code",
   "execution_count": 5,
   "metadata": {},
   "outputs": [],
   "source": [
    "df = pd.read_csv('home.csv')\n",
    "df1 = pd.read_csv('passagem.csv')"
   ]
  },
  {
   "cell_type": "code",
   "execution_count": 6,
   "metadata": {},
   "outputs": [
    {
     "data": {
      "text/plain": [
       "Index([u'AMBIENTE', u'DEVICE', u'ID', u'STATUS', u'DATA', u'HORA'], dtype='object')"
      ]
     },
     "execution_count": 6,
     "metadata": {},
     "output_type": "execute_result"
    }
   ],
   "source": [
    "#df.columns\n",
    "df1.columns"
   ]
  },
  {
   "cell_type": "code",
   "execution_count": 7,
   "metadata": {},
   "outputs": [
    {
     "name": "stdout",
     "output_type": "stream",
     "text": [
      "620\n"
     ]
    },
    {
     "data": {
      "text/html": [
       "<div>\n",
       "<style scoped>\n",
       "    .dataframe tbody tr th:only-of-type {\n",
       "        vertical-align: middle;\n",
       "    }\n",
       "\n",
       "    .dataframe tbody tr th {\n",
       "        vertical-align: top;\n",
       "    }\n",
       "\n",
       "    .dataframe thead th {\n",
       "        text-align: right;\n",
       "    }\n",
       "</style>\n",
       "<table border=\"1\" class=\"dataframe\">\n",
       "  <thead>\n",
       "    <tr style=\"text-align: right;\">\n",
       "      <th></th>\n",
       "      <th>ID</th>\n",
       "    </tr>\n",
       "  </thead>\n",
       "  <tbody>\n",
       "    <tr>\n",
       "      <th>count</th>\n",
       "      <td>620.0</td>\n",
       "    </tr>\n",
       "    <tr>\n",
       "      <th>mean</th>\n",
       "      <td>1.0</td>\n",
       "    </tr>\n",
       "    <tr>\n",
       "      <th>std</th>\n",
       "      <td>0.0</td>\n",
       "    </tr>\n",
       "    <tr>\n",
       "      <th>min</th>\n",
       "      <td>1.0</td>\n",
       "    </tr>\n",
       "    <tr>\n",
       "      <th>25%</th>\n",
       "      <td>1.0</td>\n",
       "    </tr>\n",
       "    <tr>\n",
       "      <th>50%</th>\n",
       "      <td>1.0</td>\n",
       "    </tr>\n",
       "    <tr>\n",
       "      <th>75%</th>\n",
       "      <td>1.0</td>\n",
       "    </tr>\n",
       "    <tr>\n",
       "      <th>max</th>\n",
       "      <td>1.0</td>\n",
       "    </tr>\n",
       "  </tbody>\n",
       "</table>\n",
       "</div>"
      ],
      "text/plain": [
       "          ID\n",
       "count  620.0\n",
       "mean     1.0\n",
       "std      0.0\n",
       "min      1.0\n",
       "25%      1.0\n",
       "50%      1.0\n",
       "75%      1.0\n",
       "max      1.0"
      ]
     },
     "execution_count": 7,
     "metadata": {},
     "output_type": "execute_result"
    }
   ],
   "source": [
    "print len(df1)\n",
    "df1.describe() # dos dados numericos"
   ]
  },
  {
   "cell_type": "code",
   "execution_count": 10,
   "metadata": {},
   "outputs": [
    {
     "name": "stdout",
     "output_type": "stream",
     "text": [
      "['sala', 'porta', 1, '47.079819 48.129658', '2018-11-04', '22:22:12.944588']\n"
     ]
    }
   ],
   "source": [
    "leitura = len(df1)\n",
    "Atual = (np.array(df1[leitura-2:leitura-1]).tolist())[0]\n",
    "#d = (np.array(df[28:29]).tolist())[0]\n",
    "print Atual"
   ]
  },
  {
   "cell_type": "code",
   "execution_count": 43,
   "metadata": {},
   "outputs": [
    {
     "name": "stdout",
     "output_type": "stream",
     "text": [
      "47.097919\n",
      "47.079819\n",
      "47.097919\n",
      "47.061718\n",
      "47.079819\n",
      "47.061718\n",
      "47.061718\n",
      "47.097919\n",
      "47.079819\n",
      "47.061718\n",
      "47.061718\n",
      "47.097919\n",
      "47.061718\n",
      "47.043617\n",
      "47.061718\n",
      "47.079819\n",
      "47.097919\n",
      "47.043617\n",
      "47.061718\n",
      "47.061718\n",
      "47.079819\n",
      "47.061718\n",
      "47.079819\n",
      "47.061718\n",
      "47.061718\n",
      "47.097919\n",
      "47.079819\n",
      "47.061718\n",
      "47.097919\n"
     ]
    }
   ],
   "source": [
    "lista = []\n",
    "sensor1 = []\n",
    "sensor2 = []\n",
    "for p in range(1,30):\n",
    " data = (np.array(df1[leitura-p:leitura]).tolist())[0]\n",
    " lista.append(data[3])\n",
    "\n",
    "for p in range(len(lista)):\n",
    "    sensor1.append(lista[p].split()[0])\n",
    "    sensor2.append(lista[p].split()[1])\n",
    "#print sensor1\n",
    "for p in sensor1:\n",
    "    print p"
   ]
  },
  {
   "cell_type": "code",
   "execution_count": 18,
   "metadata": {},
   "outputs": [],
   "source": [
    "def atual():\n",
    " df = pd.read_csv('home.csv')\n",
    " leitura = len(df)\n",
    " atual = (np.array(df[leitura-1:leitura]).tolist())[0]\n",
    " dados = atual\n",
    " parametro = {\n",
    "\"Ambiente\":dados[0],\n",
    "\"IoT\":dados[1],\n",
    "\"ID\":dados[2],\n",
    "\"status\":dados[3],\n",
    "\"Data\":dados[4],\n",
    "\"Hora\":dados[5]\n",
    "}\n",
    " return parametro"
   ]
  },
  {
   "cell_type": "code",
   "execution_count": 19,
   "metadata": {},
   "outputs": [
    {
     "data": {
      "text/plain": [
       "{'Ambiente': 'sala',\n",
       " 'Data': '2018-11-01',\n",
       " 'Hora': '02:57:26',\n",
       " 'ID': 1,\n",
       " 'IoT': 'janela',\n",
       " 'status': 0}"
      ]
     },
     "execution_count": 19,
     "metadata": {},
     "output_type": "execute_result"
    }
   ],
   "source": [
    "atual()"
   ]
  },
  {
   "cell_type": "code",
   "execution_count": 22,
   "metadata": {},
   "outputs": [
    {
     "name": "stdout",
     "output_type": "stream",
     "text": [
      "0 sala\n",
      "1 janela\n",
      "2 1\n",
      "3 0\n",
      "4 2018-11-01\n",
      "5 02:57:25\n"
     ]
    }
   ],
   "source": [
    "for p in range(len(Atual)):\n",
    "    print p,Atual[p]"
   ]
  },
  {
   "cell_type": "code",
   "execution_count": 26,
   "metadata": {},
   "outputs": [
    {
     "data": {
      "text/plain": [
       "' STATUS '"
      ]
     },
     "execution_count": 26,
     "metadata": {},
     "output_type": "execute_result"
    }
   ],
   "source": [
    "(df.columns[3])"
   ]
  },
  {
   "cell_type": "code",
   "execution_count": null,
   "metadata": {},
   "outputs": [],
   "source": []
  }
 ],
 "metadata": {
  "kernelspec": {
   "display_name": "Python 2",
   "language": "python",
   "name": "python2"
  },
  "language_info": {
   "codemirror_mode": {
    "name": "ipython",
    "version": 2
   },
   "file_extension": ".py",
   "mimetype": "text/x-python",
   "name": "python",
   "nbconvert_exporter": "python",
   "pygments_lexer": "ipython2",
   "version": "2.7.15rc1"
  }
 },
 "nbformat": 4,
 "nbformat_minor": 2
}
