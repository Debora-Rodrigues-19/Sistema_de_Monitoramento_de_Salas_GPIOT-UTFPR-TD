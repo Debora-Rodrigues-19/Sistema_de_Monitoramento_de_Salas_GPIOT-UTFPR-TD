{
 "cells": [
  {
   "cell_type": "code",
   "execution_count": 33,
   "metadata": {},
   "outputs": [],
   "source": [
    "import numpy as np\n",
    "import pandas as pd\n",
    "import matplotlib.pyplot as plt\n",
    "import seaborn as sb\n",
    "import seaborn as sns\n",
    "\n",
    "%matplotlib inline"
   ]
  },
  {
   "cell_type": "code",
   "execution_count": 34,
   "metadata": {},
   "outputs": [],
   "source": [
    "df = pd.read_csv('home.csv')\n",
    "df1 = pd.read_csv('passagem.csv')"
   ]
  },
  {
   "cell_type": "code",
   "execution_count": 35,
   "metadata": {},
   "outputs": [
    {
     "data": {
      "text/plain": [
       "Index([u'AMBIENTE', u'DEVICE', u'ID', u'STATUS', u'DATA', u'HORA'], dtype='object')"
      ]
     },
     "execution_count": 35,
     "metadata": {},
     "output_type": "execute_result"
    }
   ],
   "source": [
    "#df.columns\n",
    "df1.columns"
   ]
  },
  {
   "cell_type": "code",
   "execution_count": 36,
   "metadata": {},
   "outputs": [
    {
     "name": "stdout",
     "output_type": "stream",
     "text": [
      "5591\n"
     ]
    },
    {
     "data": {
      "text/html": [
       "<div>\n",
       "<style scoped>\n",
       "    .dataframe tbody tr th:only-of-type {\n",
       "        vertical-align: middle;\n",
       "    }\n",
       "\n",
       "    .dataframe tbody tr th {\n",
       "        vertical-align: top;\n",
       "    }\n",
       "\n",
       "    .dataframe thead th {\n",
       "        text-align: right;\n",
       "    }\n",
       "</style>\n",
       "<table border=\"1\" class=\"dataframe\">\n",
       "  <thead>\n",
       "    <tr style=\"text-align: right;\">\n",
       "      <th></th>\n",
       "      <th>ID</th>\n",
       "    </tr>\n",
       "  </thead>\n",
       "  <tbody>\n",
       "    <tr>\n",
       "      <th>count</th>\n",
       "      <td>5591.0</td>\n",
       "    </tr>\n",
       "    <tr>\n",
       "      <th>mean</th>\n",
       "      <td>1.0</td>\n",
       "    </tr>\n",
       "    <tr>\n",
       "      <th>std</th>\n",
       "      <td>0.0</td>\n",
       "    </tr>\n",
       "    <tr>\n",
       "      <th>min</th>\n",
       "      <td>1.0</td>\n",
       "    </tr>\n",
       "    <tr>\n",
       "      <th>25%</th>\n",
       "      <td>1.0</td>\n",
       "    </tr>\n",
       "    <tr>\n",
       "      <th>50%</th>\n",
       "      <td>1.0</td>\n",
       "    </tr>\n",
       "    <tr>\n",
       "      <th>75%</th>\n",
       "      <td>1.0</td>\n",
       "    </tr>\n",
       "    <tr>\n",
       "      <th>max</th>\n",
       "      <td>1.0</td>\n",
       "    </tr>\n",
       "  </tbody>\n",
       "</table>\n",
       "</div>"
      ],
      "text/plain": [
       "           ID\n",
       "count  5591.0\n",
       "mean      1.0\n",
       "std       0.0\n",
       "min       1.0\n",
       "25%       1.0\n",
       "50%       1.0\n",
       "75%       1.0\n",
       "max       1.0"
      ]
     },
     "execution_count": 36,
     "metadata": {},
     "output_type": "execute_result"
    }
   ],
   "source": [
    "print len(df1)\n",
    "df1.describe() # dos dados numericos"
   ]
  },
  {
   "cell_type": "code",
   "execution_count": 37,
   "metadata": {},
   "outputs": [
    {
     "name": "stdout",
     "output_type": "stream",
     "text": [
      "['sala', 'porta', 1, '134.868027 37.812283', '2018-11-15', '20:56:58.261519']\n"
     ]
    }
   ],
   "source": [
    "leitura = len(df1)\n",
    "Atual = (np.array(df1[leitura-2:leitura-1]).tolist())[0]\n",
    "#d = (np.array(df[28:29]).tolist())[0]\n",
    "print Atual"
   ]
  },
  {
   "cell_type": "code",
   "execution_count": 38,
   "metadata": {},
   "outputs": [
    {
     "name": "stdout",
     "output_type": "stream",
     "text": [
      "5581\n"
     ]
    }
   ],
   "source": [
    "leitura = len(df1)\n",
    "print leitura-10"
   ]
  },
  {
   "cell_type": "code",
   "execution_count": 39,
   "metadata": {},
   "outputs": [],
   "source": [
    "sensores = []\n",
    "for p in range(20):\n",
    " data = np.array(df1[leitura-20:leitura]).tolist()[p]\n",
    " sensores.append(data[3])"
   ]
  },
  {
   "cell_type": "code",
   "execution_count": 40,
   "metadata": {},
   "outputs": [],
   "source": [
    "s1 = []\n",
    "s2 = []\n",
    "for p in range(len(sensores)):\n",
    "    s1.append(sensores[p].split()[0])\n",
    "    s2.append(sensores[p].split()[1])"
   ]
  },
  {
   "cell_type": "code",
   "execution_count": 41,
   "metadata": {},
   "outputs": [
    {
     "name": "stdout",
     "output_type": "stream",
     "text": [
      "['132.804550', '131.030685', '133.257065', '164.317795', '132.333939', '135.718750', '135.827362', '163.467072', '132.370132', '134.107803', '133.691483', '131.447006', '163.014557', '134.904221', '134.506012', '134.071594', '134.904221', '134.940430', '134.868027', '134.506012']\n",
      "['37.812283', '37.359764', '37.395966', '37.395966', '37.359764', '37.414066', '37.395966', '37.395966', '37.377865', '37.359764', '37.359764', '37.395966', '37.812283', '36.925350', '36.889149', '36.925350', '36.889149', '46.192886', '37.812283', '37.359764']\n"
     ]
    }
   ],
   "source": [
    "print s1\n",
    "print s2"
   ]
  },
  {
   "cell_type": "code",
   "execution_count": 42,
   "metadata": {},
   "outputs": [],
   "source": [
    "def atual():\n",
    " df = pd.read_csv('home.csv')\n",
    " leitura = len(df)\n",
    " atual = (np.array(df[leitura-1:leitura]).tolist())[0]\n",
    " dados = atual\n",
    " parametro = {\n",
    "\"Ambiente\":dados[0],\n",
    "\"IoT\":dados[1],\n",
    "\"ID\":dados[2],\n",
    "\"status\":dados[3],\n",
    "\"Data\":dados[4],\n",
    "\"Hora\":dados[5]\n",
    "}\n",
    " return parametro"
   ]
  },
  {
   "cell_type": "code",
   "execution_count": 43,
   "metadata": {},
   "outputs": [
    {
     "data": {
      "text/plain": [
       "{'Ambiente': 'sala',\n",
       " 'Data': '2018-11-16',\n",
       " 'Hora': '01:32:57',\n",
       " 'ID': 1,\n",
       " 'IoT': 'janela',\n",
       " 'status': 0}"
      ]
     },
     "execution_count": 43,
     "metadata": {},
     "output_type": "execute_result"
    }
   ],
   "source": [
    "atual()"
   ]
  },
  {
   "cell_type": "code",
   "execution_count": 44,
   "metadata": {},
   "outputs": [
    {
     "name": "stdout",
     "output_type": "stream",
     "text": [
      "0 sala\n",
      "1 porta\n",
      "2 1\n",
      "3 134.868027 37.812283\n",
      "4 2018-11-15\n",
      "5 20:56:58.261519\n"
     ]
    }
   ],
   "source": [
    "for p in range(len(Atual)):\n",
    "    print p,Atual[p]"
   ]
  },
  {
   "cell_type": "code",
   "execution_count": 45,
   "metadata": {},
   "outputs": [
    {
     "data": {
      "text/plain": [
       "' STATUS '"
      ]
     },
     "execution_count": 45,
     "metadata": {},
     "output_type": "execute_result"
    }
   ],
   "source": [
    "(df.columns[3])"
   ]
  },
  {
   "cell_type": "code",
   "execution_count": 54,
   "metadata": {},
   "outputs": [],
   "source": [
    "def atual():\n",
    " janela = pd.read_csv('home.csv')\n",
    " passagem = pd.read_csv('passagem.csv')\n",
    " leitura = len(janela)\n",
    " leitura2 = len(passagem)\n",
    " atual = (np.array(janela[leitura-1:leitura]).tolist())[0]\n",
    " atual2 = (np.array(passagem[leitura2-1:leitura2]).tolist())[0]\n",
    " dados = atual\n",
    " dados1 = atual2\n",
    " passagem = {\n",
    "\"Ambiente\":dados1[0],\n",
    "\"IoT\":dados1[1],\n",
    "\"ID\":dados1[2],\n",
    "\"status\":dados1[3],\n",
    "\"Data\":dados1[4],\n",
    "\"Hora\":dados1[5]\n",
    "     \n",
    " }   \n",
    " janela = {\n",
    "\"Ambiente\":dados[0],\n",
    "\"IoT\":dados[1],\n",
    "\"ID\":dados[2],\n",
    "\"status\":dados[3],\n",
    "\"Data\":dados[4],\n",
    "\"Hora\":dados[5]\n",
    "}\n",
    " return janela,passagem\n",
    "\n",
    "\n"
   ]
  },
  {
   "cell_type": "code",
   "execution_count": null,
   "metadata": {},
   "outputs": [],
   "source": []
  },
  {
   "cell_type": "code",
   "execution_count": 56,
   "metadata": {},
   "outputs": [
    {
     "name": "stdout",
     "output_type": "stream",
     "text": [
      "{'status': 1, 'Hora': '02:20:18', 'IoT': 'janela', 'ID': 1, 'Data': '2018-11-16', 'Ambiente': 'sala'}\n"
     ]
    }
   ],
   "source": [
    "print atual()[0]"
   ]
  },
  {
   "cell_type": "code",
   "execution_count": null,
   "metadata": {},
   "outputs": [],
   "source": [
    "\n"
   ]
  }
 ],
 "metadata": {
  "kernelspec": {
   "display_name": "Python 2",
   "language": "python",
   "name": "python2"
  },
  "language_info": {
   "codemirror_mode": {
    "name": "ipython",
    "version": 2
   },
   "file_extension": ".py",
   "mimetype": "text/x-python",
   "name": "python",
   "nbconvert_exporter": "python",
   "pygments_lexer": "ipython2",
   "version": "2.7.15rc1"
  }
 },
 "nbformat": 4,
 "nbformat_minor": 2
}
